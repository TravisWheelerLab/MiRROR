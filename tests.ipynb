{
 "cells": [
  {
   "cell_type": "code",
   "execution_count": 1,
   "id": "59515b0a-ad32-41a7-88d2-77b3100c3c01",
   "metadata": {},
   "outputs": [],
   "source": [
    "from util import *\n",
    "from search import *\n",
    "from prototype import *\n",
    "from random import shuffle"
   ]
  },
  {
   "cell_type": "code",
   "execution_count": 2,
   "id": "02783b0e-32fc-4be9-999e-ea6c451b3224",
   "metadata": {},
   "outputs": [],
   "source": [
    "seqs = load_fasta_records_as_str(\"uniprot_sprot.fasta\")\n",
    "shuffle(seqs)\n",
    "seqs = seqs[:1000]\n",
    "peps = collapse_second_order_list(map(digest_trypsin,seqs))\n",
    "peps = list(filter(lambda pep: 'X' not in pep, peps))\n",
    "specs = list(map(generate_spectrum_and_list_mz,peps))"
   ]
  },
  {
   "cell_type": "code",
   "execution_count": 3,
   "id": "84f61eb9-0c74-41d1-9df3-35e6200f0b04",
   "metadata": {},
   "outputs": [
    {
     "ename": "KeyboardInterrupt",
     "evalue": "",
     "output_type": "error",
     "traceback": [
      "\u001b[0;31m---------------------------------------------------------------------------\u001b[0m",
      "\u001b[0;31mKeyboardInterrupt\u001b[0m                         Traceback (most recent call last)",
      "Cell \u001b[0;32mIn[3], line 4\u001b[0m\n\u001b[1;32m      2\u001b[0m alphabet \u001b[38;5;241m=\u001b[39m AMINO_MASS_MONO\n\u001b[1;32m      3\u001b[0m \u001b[38;5;28;01mfor\u001b[39;00m spec \u001b[38;5;129;01min\u001b[39;00m specs:\n\u001b[0;32m----> 4\u001b[0m     \u001b[38;5;28;01massert\u001b[39;00m \u001b[43msearch\u001b[49m\u001b[43m(\u001b[49m\u001b[43mspecs\u001b[49m\u001b[43m[\u001b[49m\u001b[38;5;241;43m0\u001b[39;49m\u001b[43m]\u001b[49m\u001b[43m,\u001b[49m\u001b[43mtolerance\u001b[49m\u001b[43m,\u001b[49m\u001b[43malphabet\u001b[49m\u001b[43m)\u001b[49m[\u001b[38;5;241m0\u001b[39m] \u001b[38;5;241m==\u001b[39m search_overlap(specs[\u001b[38;5;241m0\u001b[39m],tolerance,alphabet) \u001b[38;5;241m==\u001b[39m search_overlap2(specs[\u001b[38;5;241m0\u001b[39m],tolerance,alphabet)\n",
      "File \u001b[0;32m~/Projects/mass-spec-dnps/2024_0917-pivot_point_location_algorithm/search.py:109\u001b[0m, in \u001b[0;36msearch\u001b[0;34m(spectrum, tolerance, alphabet)\u001b[0m\n\u001b[1;32m    106\u001b[0m         pivots_disjoint.extend(p_d)\n\u001b[1;32m    107\u001b[0m     return pivots_overlap, pivots_disjoint\n\u001b[0;32m--> 109\u001b[0m # NOTE: both search modes are being performed simultaneously for convenience of testing\n\u001b[1;32m    110\u001b[0m # in practice, overlap is performed first and identifies a handful of candidates.\n\u001b[1;32m    111\u001b[0m # disjoint will identify many, many more, and should only be used when necessary.\n",
      "File \u001b[0;32m~/Projects/mass-spec-dnps/2024_0917-pivot_point_location_algorithm/search.py\u001b[0m, in \u001b[0;36m_search\u001b[0;34m(spectrum, tolerance, key)\u001b[0m\n\u001b[1;32m      0\u001b[0m <Error retrieving source code with stack_data see ipython/ipython#13598>\n",
      "\u001b[0;31mKeyboardInterrupt\u001b[0m: "
     ]
    }
   ],
   "source": [
    "tolerance = 2 * AVERAGE_MASS_DIFFERENCE\n",
    "alphabet = AMINO_MASS_MONO\n",
    "for spec in specs:\n",
    "    assert search(specs[0],tolerance,alphabet)[0] == search_overlap(specs[0],tolerance,alphabet) == search_overlap2(specs[0],tolerance,alphabet)"
   ]
  },
  {
   "cell_type": "code",
   "execution_count": null,
   "id": "46943b65-eeba-4c0e-8f15-265be49171d8",
   "metadata": {},
   "outputs": [],
   "source": [
    "from time import time\n",
    "def duration(fn, specs, tolerance, alphabet):\n",
    "    init_t = time()\n",
    "    for spec in specs:\n",
    "        fn(spec,tolerance,alphabet)\n",
    "    return time() - init_t"
   ]
  },
  {
   "cell_type": "code",
   "execution_count": null,
   "id": "e2c87217-5869-4ded-ac8b-e64ef2f7056b",
   "metadata": {},
   "outputs": [],
   "source": [
    "duration(search,specs,tolerance,alphabet)"
   ]
  },
  {
   "cell_type": "code",
   "execution_count": null,
   "id": "fc93c28c-07d9-4c22-96a4-35bae659c66b",
   "metadata": {},
   "outputs": [],
   "source": [
    "duration(search_overlap,specs,tolerance,alphabet)"
   ]
  },
  {
   "cell_type": "code",
   "execution_count": null,
   "id": "1abb38ea-5203-4b0b-9dfd-5cac708cf723",
   "metadata": {},
   "outputs": [],
   "source": [
    "duration(search_overlap2,specs,tolerance,alphabet)"
   ]
  }
 ],
 "metadata": {
  "kernelspec": {
   "display_name": "Python 3 (ipykernel)",
   "language": "python",
   "name": "python3"
  },
  "language_info": {
   "codemirror_mode": {
    "name": "ipython",
    "version": 3
   },
   "file_extension": ".py",
   "mimetype": "text/x-python",
   "name": "python",
   "nbconvert_exporter": "python",
   "pygments_lexer": "ipython3",
   "version": "3.11.10"
  }
 },
 "nbformat": 4,
 "nbformat_minor": 5
}
