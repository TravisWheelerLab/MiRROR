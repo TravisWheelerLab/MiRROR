{
 "cells": [
  {
   "cell_type": "code",
   "execution_count": 1,
   "id": "59515b0a-ad32-41a7-88d2-77b3100c3c01",
   "metadata": {},
   "outputs": [],
   "source": [
    "from util import *\n",
    "from search import *\n",
    "from prototype import *\n",
    "from random import shuffle"
   ]
  },
  {
   "cell_type": "code",
   "execution_count": 2,
   "id": "02783b0e-32fc-4be9-999e-ea6c451b3224",
   "metadata": {},
   "outputs": [],
   "source": [
    "seqs = load_fasta_records_as_str(\"uniprot_sprot.fasta\")\n",
    "shuffle(seqs)\n",
    "seqs = seqs[:1000]\n",
    "peps = collapse_second_order_list(map(digest_trypsin,seqs))\n",
    "peps = list(filter(lambda pep: 'X' not in pep, peps))\n",
    "specs = list(map(generate_spectrum_and_list_mz,peps))"
   ]
  },
  {
   "cell_type": "code",
   "execution_count": 3,
   "id": "84f61eb9-0c74-41d1-9df3-35e6200f0b04",
   "metadata": {},
   "outputs": [],
   "source": [
    "tolerance = 2 * AVERAGE_MASS_DIFFERENCE\n",
    "alphabet = AMINO_MASS_MONO\n",
    "for spec in specs:\n",
    "    assert search(specs[0],tolerance,alphabet)[0] == search_overlap(specs[0],tolerance,alphabet)"
   ]
  },
  {
   "cell_type": "code",
   "execution_count": 6,
   "id": "46943b65-eeba-4c0e-8f15-265be49171d8",
   "metadata": {},
   "outputs": [],
   "source": [
    "from time import time\n",
    "def duration(fn, specs, tolerance, alphabet):\n",
    "    init_t = time()\n",
    "    for spec in specs:\n",
    "        fn(spec,tolerance,alphabet)\n",
    "    return time() - init_t"
   ]
  },
  {
   "cell_type": "code",
   "execution_count": 7,
   "id": "e2c87217-5869-4ded-ac8b-e64ef2f7056b",
   "metadata": {},
   "outputs": [
    {
     "data": {
      "text/plain": [
       "23.31462526321411"
      ]
     },
     "execution_count": 7,
     "metadata": {},
     "output_type": "execute_result"
    }
   ],
   "source": [
    "duration(search,specs,tolerance,alphabet)"
   ]
  },
  {
   "cell_type": "code",
   "execution_count": 8,
   "id": "fc93c28c-07d9-4c22-96a4-35bae659c66b",
   "metadata": {},
   "outputs": [
    {
     "data": {
      "text/plain": [
       "5.0321595668792725"
      ]
     },
     "execution_count": 8,
     "metadata": {},
     "output_type": "execute_result"
    }
   ],
   "source": [
    "duration(search_overlap,specs,tolerance,alphabet)"
   ]
  },
  {
   "cell_type": "code",
   "execution_count": null,
   "id": "1abb38ea-5203-4b0b-9dfd-5cac708cf723",
   "metadata": {},
   "outputs": [],
   "source": []
  }
 ],
 "metadata": {
  "kernelspec": {
   "display_name": "Python 3 (ipykernel)",
   "language": "python",
   "name": "python3"
  },
  "language_info": {
   "codemirror_mode": {
    "name": "ipython",
    "version": 3
   },
   "file_extension": ".py",
   "mimetype": "text/x-python",
   "name": "python",
   "nbconvert_exporter": "python",
   "pygments_lexer": "ipython3",
   "version": "3.11.10"
  }
 },
 "nbformat": 4,
 "nbformat_minor": 5
}
