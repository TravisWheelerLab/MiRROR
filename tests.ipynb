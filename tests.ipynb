{
 "cells": [
  {
   "cell_type": "code",
   "execution_count": null,
   "id": "992b39ef-f9f0-47e5-90d3-3a5d84cc8df4",
   "metadata": {},
   "outputs": [],
   "source": [
    "from util import *\n",
    "from search import search\n",
    "from agnostic_search import search as agnostic_search\n",
    "from prototype import *\n",
    "from random import shuffle"
   ]
  },
  {
   "cell_type": "code",
   "execution_count": null,
   "id": "d1cff7e4-df77-4c4e-bbff-a2794c13e99d",
   "metadata": {},
   "outputs": [],
   "source": [
    "seqs = load_fasta_records_as_str(\"uniprot_sprot.fasta\")\n",
    "shuffle(seqs)\n",
    "seqs = seqs[:10000]\n",
    "peps = collapse_second_order_list(map(digest_trypsin,seqs))\n",
    "peps = list(filter(lambda pep: 'X' not in pep, peps))\n",
    "specs = list(map(generate_spectrum_and_list_mz,peps))\n",
    "specs = [np.unique(spec) for spec in specs]\n",
    "tolerance = 2 * AVERAGE_MASS_DIFFERENCE\n",
    "alphabet = AMINO_MASS_MONO"
   ]
  },
  {
   "cell_type": "markdown",
   "id": "9ea66e66-cae2-47bb-8eb0-3ed3af5c929c",
   "metadata": {},
   "source": [
    "## Timing and Sanity Checks"
   ]
  },
  {
   "cell_type": "raw",
   "id": "b6c56f5c-b522-4677-bf73-6e37cf8c1f36",
   "metadata": {},
   "source": [
    "def convert_to_list(pivots):\n",
    "    return [tuple(p.data) for p in pivots]\n",
    "for spec in specs:\n",
    "    assert old_search_overlap(spec,tolerance,alphabet) == convert_to_list(search(\"overlap\",spec,alphabet,tolerance)) == convert_to_list(search(\"overlap_alt\",spec,alphabet,tolerance))"
   ]
  },
  {
   "cell_type": "code",
   "execution_count": null,
   "id": "2726cf48-f5f9-467f-8337-cbcdd2945270",
   "metadata": {},
   "outputs": [],
   "source": [
    "from time import time\n",
    "def duration(fn, specs, *args):\n",
    "    init_t = time()\n",
    "    for spec in specs:\n",
    "        fn(spec,*args)\n",
    "    return time() - init_t"
   ]
  },
  {
   "cell_type": "code",
   "execution_count": null,
   "id": "65645b46-e8cb-4f6b-918a-89fe06035eb4",
   "metadata": {},
   "outputs": [],
   "source": [
    "duration(old_search_overlap,specs,tolerance,alphabet)"
   ]
  },
  {
   "cell_type": "code",
   "execution_count": null,
   "id": "53acf0a2-bc61-402f-9d5d-1ef1bef9b2c4",
   "metadata": {},
   "outputs": [],
   "source": [
    "duration(old_search_overlap_alt,specs,tolerance,alphabet)"
   ]
  },
  {
   "cell_type": "code",
   "execution_count": null,
   "id": "9946462d-f5a8-4b93-b333-6ce4c04add6d",
   "metadata": {},
   "outputs": [],
   "source": [
    "duration(search,specs,\"overlap\",alphabet,tolerance)"
   ]
  },
  {
   "cell_type": "code",
   "execution_count": null,
   "id": "5385479b-b862-4dfe-b141-d50bf30c98d2",
   "metadata": {},
   "outputs": [],
   "source": [
    "duration(search,specs,\"overlap_alt\",alphabet,tolerance)"
   ]
  },
  {
   "cell_type": "markdown",
   "id": "328fb5a6-1d95-4503-8a51-28b592b24a3f",
   "metadata": {},
   "source": [
    "## Validation"
   ]
  },
  {
   "cell_type": "code",
   "execution_count": null,
   "id": "590cbb8a-bdde-4a18-8388-79435d5f2c94",
   "metadata": {},
   "outputs": [],
   "source": [
    "from random import randint"
   ]
  },
  {
   "cell_type": "code",
   "execution_count": null,
   "id": "79169530-c493-49a6-969f-d15b52f0f589",
   "metadata": {},
   "outputs": [],
   "source": [
    "i = randint(0,len(specs)-1)\n",
    "spec = specs[i]\n",
    "p = locate_pivot_point(spec,tolerance)\n",
    "print(p)\n",
    "print(measure_mirror_symmetry(spec,p), (len(spec) - 1)/len(spec))\n",
    "pep = peps[i]\n",
    "b = get_b_ion_series(pep)\n",
    "y = get_y_ion_series(pep)\n",
    "true_pivot = np.mean([*b[0:2],*y[-3:-1]])\n",
    "print(abs(true_pivot - p))"
   ]
  },
  {
   "cell_type": "code",
   "execution_count": null,
   "id": "7856710d-84b4-46d8-933b-22b0d74ff126",
   "metadata": {},
   "outputs": [],
   "source": [
    "import os\n",
    "\n",
    "sprot = load_fasta_records(\"uniprot_sprot.fasta\")\n",
    "shuffle(sprot)\n",
    "sprot_10k = sprot[:int(1e5)]\n",
    "\n",
    "counter = 0\n",
    "filename = \"sprot_10k_{}.fasta\"\n",
    "while os.path.isfile(filename.format(counter)):\n",
    "    counter += 1\n",
    "filename = filename.format(counter)\n",
    "print(filename)\n",
    "\n",
    "with open(filename,\"w\") as handle:\n",
    "    SeqIO.write(sprot_10k, handle, \"fasta\")"
   ]
  },
  {
   "cell_type": "markdown",
   "id": "e7dc0b64-6e1a-49ab-8d80-3cc1fd533045",
   "metadata": {},
   "source": [
    "## Miscellaneous"
   ]
  },
  {
   "cell_type": "code",
   "execution_count": null,
   "id": "501fd119-f6c9-41fb-97f4-cf5cb8970796",
   "metadata": {},
   "outputs": [],
   "source": [
    "from agnostic_search import _find_gapped_pairs"
   ]
  },
  {
   "cell_type": "code",
   "execution_count": null,
   "id": "c1737ffb-cf21-4144-bdfd-d623fb62613b",
   "metadata": {},
   "outputs": [],
   "source": [
    "get_gap = lambda x: x[1]-x[0]\n",
    "candidate_pairs = sorted(_find_gapped_pairs(specs[0],min(AMINO_MASS_MONO),max(AMINO_MASS_MONO), 2 * AVERAGE_MASS_DIFFERENCE), key = get_gap)\n",
    "list(map(get_gap,candidate_pairs))"
   ]
  },
  {
   "cell_type": "code",
   "execution_count": null,
   "id": "ff609fc6-9871-4614-bb6c-e62d7f1a415e",
   "metadata": {},
   "outputs": [],
   "source": []
  }
 ],
 "metadata": {
  "kernelspec": {
   "display_name": "Python 3 (ipykernel)",
   "language": "python",
   "name": "python3"
  },
  "language_info": {
   "codemirror_mode": {
    "name": "ipython",
    "version": 3
   },
   "file_extension": ".py",
   "mimetype": "text/x-python",
   "name": "python",
   "nbconvert_exporter": "python",
   "pygments_lexer": "ipython3",
   "version": "3.11.10"
  }
 },
 "nbformat": 4,
 "nbformat_minor": 5
}
