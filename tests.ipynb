{
 "cells": [
  {
   "cell_type": "code",
   "execution_count": 1,
   "id": "59515b0a-ad32-41a7-88d2-77b3100c3c01",
   "metadata": {},
   "outputs": [],
   "source": [
    "from util import *\n",
    "from search import *\n",
    "from old_search import search as old_search, search_overlap as old_search_overlap, search_overlap2 as old_search_overlap_alt\n",
    "from prototype import *\n",
    "from random import shuffle"
   ]
  },
  {
   "cell_type": "code",
   "execution_count": 5,
   "id": "02783b0e-32fc-4be9-999e-ea6c451b3224",
   "metadata": {},
   "outputs": [],
   "source": [
    "seqs = load_fasta_records_as_str(\"uniprot_sprot.fasta\")\n",
    "shuffle(seqs)\n",
    "seqs = seqs[:10000]\n",
    "peps = collapse_second_order_list(map(digest_trypsin,seqs))\n",
    "peps = list(filter(lambda pep: 'X' not in pep, peps))\n",
    "specs = list(map(generate_spectrum_and_list_mz,peps))\n",
    "specs = [np.unique(spec) for spec in specs]\n",
    "tolerance = 2 * AVERAGE_MASS_DIFFERENCE\n",
    "alphabet = AMINO_MASS_MONO"
   ]
  },
  {
   "cell_type": "raw",
   "id": "b6c56f5c-b522-4677-bf73-6e37cf8c1f36",
   "metadata": {},
   "source": [
    "def convert_to_list(pivots):\n",
    "    return [tuple(p.data) for p in pivots]\n",
    "for spec in specs:\n",
    "    assert old_search_overlap(spec,tolerance,alphabet) == convert_to_list(search(\"overlap\",spec,alphabet,tolerance)) == convert_to_list(search(\"overlap_alt\",spec,alphabet,tolerance))"
   ]
  },
  {
   "cell_type": "code",
   "execution_count": 6,
   "id": "2726cf48-f5f9-467f-8337-cbcdd2945270",
   "metadata": {},
   "outputs": [],
   "source": [
    "from time import time\n",
    "def duration(fn, specs, *args):\n",
    "    init_t = time()\n",
    "    for spec in specs:\n",
    "        fn(spec,*args)\n",
    "    return time() - init_t"
   ]
  },
  {
   "cell_type": "code",
   "execution_count": 7,
   "id": "65645b46-e8cb-4f6b-918a-89fe06035eb4",
   "metadata": {},
   "outputs": [
    {
     "data": {
      "text/plain": [
       "47.93575596809387"
      ]
     },
     "execution_count": 7,
     "metadata": {},
     "output_type": "execute_result"
    }
   ],
   "source": [
    "duration(old_search_overlap,specs,tolerance,alphabet)"
   ]
  },
  {
   "cell_type": "code",
   "execution_count": 8,
   "id": "53acf0a2-bc61-402f-9d5d-1ef1bef9b2c4",
   "metadata": {},
   "outputs": [
    {
     "data": {
      "text/plain": [
       "46.427249908447266"
      ]
     },
     "execution_count": 8,
     "metadata": {},
     "output_type": "execute_result"
    }
   ],
   "source": [
    "duration(old_search_overlap_alt,specs,tolerance,alphabet)"
   ]
  },
  {
   "cell_type": "code",
   "execution_count": null,
   "id": "9946462d-f5a8-4b93-b333-6ce4c04add6d",
   "metadata": {},
   "outputs": [],
   "source": [
    "duration(search,specs,\"overlap\",alphabet,tolerance)"
   ]
  },
  {
   "cell_type": "code",
   "execution_count": null,
   "id": "5385479b-b862-4dfe-b141-d50bf30c98d2",
   "metadata": {},
   "outputs": [],
   "source": [
    "duration(search,specs,\"overlap_alt\",alphabet,tolerance)"
   ]
  },
  {
   "cell_type": "code",
   "execution_count": null,
   "id": "5d5dda11-91cd-40df-8d13-e8bbbba7aa12",
   "metadata": {},
   "outputs": [],
   "source": []
  }
 ],
 "metadata": {
  "kernelspec": {
   "display_name": "Python 3 (ipykernel)",
   "language": "python",
   "name": "python3"
  },
  "language_info": {
   "codemirror_mode": {
    "name": "ipython",
    "version": 3
   },
   "file_extension": ".py",
   "mimetype": "text/x-python",
   "name": "python",
   "nbconvert_exporter": "python",
   "pygments_lexer": "ipython3",
   "version": "3.11.10"
  }
 },
 "nbformat": 4,
 "nbformat_minor": 5
}
