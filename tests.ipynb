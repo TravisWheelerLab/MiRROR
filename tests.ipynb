{
 "cells": [
  {
   "cell_type": "code",
   "execution_count": null,
   "id": "992b39ef-f9f0-47e5-90d3-3a5d84cc8df4",
   "metadata": {},
   "outputs": [],
   "source": [
    "import os\n",
    "from util import *\n",
    "from search import search, _find_gapped_pairs\n",
    "from agnostic_search import search as agnostic_search, _find_gapped_pairs as agnostic_find_gapped_pairs\n",
    "from prototype import *\n",
    "from random import shuffle, randint\n",
    "from matplotlib import pyplot as plt\n",
    "\n",
    "tolerance = 2 * AVERAGE_MASS_DIFFERENCE\n",
    "alphabet = AMINO_MASS_MONO\n",
    "amin = min(alphabet)\n",
    "amax = max(alphabet)"
   ]
  },
  {
   "cell_type": "code",
   "execution_count": null,
   "id": "d1cff7e4-df77-4c4e-bbff-a2794c13e99d",
   "metadata": {},
   "outputs": [],
   "source": [
    "seqs = load_fasta_records_as_str(\"uniprot_sprot.fasta\")\n",
    "shuffle(seqs)\n",
    "seqs = seqs[:100]\n",
    "peps = collapse_second_order_list(map(digest_trypsin,seqs))\n",
    "peps = list(filter(lambda pep: 'X' not in pep, peps))\n",
    "specs = list(map(generate_spectrum_and_list_mz,peps))\n",
    "specs = [np.unique(spec) for spec in specs]"
   ]
  },
  {
   "cell_type": "markdown",
   "id": "9ea66e66-cae2-47bb-8eb0-3ed3af5c929c",
   "metadata": {},
   "source": [
    "## Timing and Sanity Checks"
   ]
  },
  {
   "cell_type": "raw",
   "id": "b6c56f5c-b522-4677-bf73-6e37cf8c1f36",
   "metadata": {},
   "source": [
    "# takes a few minutes\n",
    "def convert_to_list(pivots):\n",
    "    return [tuple(p.data) for p in pivots]\n",
    "for spec in specs:\n",
    "    assert old_search_overlap(spec,tolerance,alphabet) == convert_to_list(search(\"overlap\",spec,alphabet,tolerance)) == convert_to_list(search(\"overlap_alt\",spec,alphabet,tolerance))"
   ]
  },
  {
   "cell_type": "code",
   "execution_count": null,
   "id": "2726cf48-f5f9-467f-8337-cbcdd2945270",
   "metadata": {},
   "outputs": [],
   "source": [
    "from time import time\n",
    "def duration(fn, specs, *args):\n",
    "    init_t = time()\n",
    "    for spec in specs:\n",
    "        fn(spec,*args)\n",
    "    return time() - init_t"
   ]
  },
  {
   "cell_type": "code",
   "execution_count": null,
   "id": "65645b46-e8cb-4f6b-918a-89fe06035eb4",
   "metadata": {},
   "outputs": [],
   "source": [
    "duration(old_search_overlap,specs,tolerance,alphabet)"
   ]
  },
  {
   "cell_type": "code",
   "execution_count": null,
   "id": "53acf0a2-bc61-402f-9d5d-1ef1bef9b2c4",
   "metadata": {},
   "outputs": [],
   "source": [
    "duration(old_search_overlap_alt,specs,tolerance,alphabet)"
   ]
  },
  {
   "cell_type": "code",
   "execution_count": null,
   "id": "9946462d-f5a8-4b93-b333-6ce4c04add6d",
   "metadata": {},
   "outputs": [],
   "source": [
    "duration(search,specs,\"overlap\",alphabet,tolerance)"
   ]
  },
  {
   "cell_type": "code",
   "execution_count": null,
   "id": "5385479b-b862-4dfe-b141-d50bf30c98d2",
   "metadata": {},
   "outputs": [],
   "source": [
    "duration(search,specs,\"overlap_alt\",alphabet,tolerance)"
   ]
  },
  {
   "cell_type": "markdown",
   "id": "328fb5a6-1d95-4503-8a51-28b592b24a3f",
   "metadata": {},
   "source": [
    "## Manual Validation"
   ]
  },
  {
   "cell_type": "markdown",
   "id": "51175a2b-895a-4977-8369-97feef3c2d4a",
   "metadata": {},
   "source": [
    "#### Compare Inferred Pivots to True Pivots\n",
    "for validation on large datasets, `python3 prototype.py test path/to/fasta`"
   ]
  },
  {
   "cell_type": "code",
   "execution_count": null,
   "id": "79169530-c493-49a6-969f-d15b52f0f589",
   "metadata": {},
   "outputs": [],
   "source": [
    "def manual_check(spec,pep,searchmode=\"gap-driven\"):\n",
    "    b = get_b_ion_series(pep)\n",
    "    y = get_y_ion_series(pep)\n",
    "    true_pivot = np.mean([*b[0:2],*y[-3:-1]])\n",
    "    predicted_pivot = locate_pivot_point(spec,tolerance,searchmode)\n",
    "    print(\"pivot\",predicted_pivot)\n",
    "    print(\"true pivot\",true_pivot)\n",
    "    print(\"error\",abs(true_pivot - predicted_pivot))\n",
    "    print(\"symmetry, expected symmetry\",measure_mirror_symmetry(spec,predicted_pivot), (len(spec) - 1)/len(spec))"
   ]
  },
  {
   "cell_type": "code",
   "execution_count": null,
   "id": "0a9bc82c-82f8-4092-adf0-554a4a98d17c",
   "metadata": {},
   "outputs": [],
   "source": [
    "i = randint(0,len(specs)-1)\n",
    "manual_check(specs[i],peps[i])"
   ]
  },
  {
   "cell_type": "markdown",
   "id": "16e69e4c-aca8-41e4-9d0d-df65b8d18e1e",
   "metadata": {},
   "source": [
    "#### Compare gap-driven and gap-agnostic pair discovery"
   ]
  },
  {
   "cell_type": "code",
   "execution_count": null,
   "id": "89d259ad-cda3-40ae-87c6-aaabc180a1a5",
   "metadata": {},
   "outputs": [],
   "source": [
    "def manual_compare(spec):\n",
    "    pairs_g = collapse_second_order_list([_find_gapped_pairs(spec,tg,tolerance) for tg in alphabet])\n",
    "    pairs_a = agnostic_find_gapped_pairs(spec,amin,amax,tolerance)\n",
    "    print(\"gap-driven pairs\",len(pairs_g))\n",
    "    print(\"gap-agnostic pairs\",len(pairs_a))\n",
    "    inc = 0\n",
    "    for p in pairs_g:\n",
    "        if p in pairs_a:\n",
    "            inc += 1\n",
    "    print(\"% gap-driven pairs present in gap-agnostic pairs\",100 * inc / len(pairs_g))"
   ]
  },
  {
   "cell_type": "code",
   "execution_count": null,
   "id": "e98d1cad-cc97-4356-a850-af32b376cfc9",
   "metadata": {},
   "outputs": [],
   "source": [
    "i = randint(0,len(specs)-1)\n",
    "manual_compare(specs[i])"
   ]
  },
  {
   "cell_type": "markdown",
   "id": "4e3bdb39-8857-4915-9c95-e0d101c6d939",
   "metadata": {},
   "source": [
    "#### Peptides of Unsolved Spectra "
   ]
  },
  {
   "cell_type": "code",
   "execution_count": null,
   "id": "56e1b96f-de10-479e-b151-98bb5771ea25",
   "metadata": {},
   "outputs": [],
   "source": [
    "def manual_false_misses(path_fasta,searchmode):\n",
    "    peps = load_fasta_records_as_str(path_fasta)\n",
    "    specs = list(map(generate_spectrum_and_list_mz,peps))\n",
    "    false_misses = []\n",
    "    for i in range(len(specs)):\n",
    "        spec = specs[i]\n",
    "        pep = peps[i]\n",
    "        predicted_pivot = locate_pivot_point(spec,tolerance,searchmode)\n",
    "        b = get_b_ion_series(pep)\n",
    "        y = get_y_ion_series(pep)\n",
    "        true_pivot = np.mean([*b[0:2],*y[-3:-1]])\n",
    "        if abs(true_pivot - predicted_pivot) < 0.1 and check_pivot(predicted_pivot,pep,spec):\n",
    "            false_misses.append((i,pep))\n",
    "    num_false_misses = len(false_misses)\n",
    "    return false_misses, num_false_misses, num_false_misses / len(specs)"
   ]
  },
  {
   "cell_type": "code",
   "execution_count": null,
   "id": "b5c69fa1-0894-4491-9364-91f34190c877",
   "metadata": {},
   "outputs": [],
   "source": [
    "manual_false_misses(\"misses/misses_gap-agnostic_uniprot_sprot.fasta\",\"gap-agnostic\")"
   ]
  },
  {
   "cell_type": "code",
   "execution_count": null,
   "id": "a3c7fdfd-4d77-4b8a-9ae9-789a10df5e72",
   "metadata": {},
   "outputs": [],
   "source": [
    "manual_false_misses(\"misses/misses_gap-driven_uniprot_sprot.fasta\",\"gap-driven\")"
   ]
  },
  {
   "cell_type": "code",
   "execution_count": null,
   "id": "a7269ce8-9036-474e-9ea9-d96d37ca010c",
   "metadata": {},
   "outputs": [],
   "source": [
    "manual_false_misses(\"misses/misses_gap-agnostic_uniprot_sprot.fasta\",\"gap-driven\")[1:]"
   ]
  },
  {
   "cell_type": "code",
   "execution_count": null,
   "id": "9af42831-3a87-490b-9a83-72c844ed39a9",
   "metadata": {},
   "outputs": [],
   "source": [
    "manual_false_misses(\"misses/misses_gap-driven_uniprot_sprot.fasta\",\"gap-agnostic\")[1:]"
   ]
  },
  {
   "cell_type": "code",
   "execution_count": null,
   "id": "565e0c6a-8f69-46b6-9c13-2868922f5389",
   "metadata": {},
   "outputs": [],
   "source": [
    "gd_miss_peps = load_fasta_records_as_str(\"misses/misses_gap-driven_uniprot_sprot.fasta\")\n",
    "gd_miss_specs = list(map(generate_spectrum_and_list_mz,gd_miss_peps))\n",
    "idx = -1"
   ]
  },
  {
   "cell_type": "code",
   "execution_count": null,
   "id": "6e53964c-b8ba-44b4-a80a-a157eb121b9c",
   "metadata": {},
   "outputs": [],
   "source": [
    "idx = (idx + 1) % len(gd_miss_specs)\n",
    "print(idx)\n",
    "pep = gd_miss_peps[idx]\n",
    "spec = gd_miss_specs[idx]\n",
    "print(pep, len(pep))\n",
    "print(spec)\n",
    "p = locate_pivot_point(spec,tolerance,\"gap-driven\")\n",
    "b = get_b_ion_series(pep)\n",
    "y = get_y_ion_series(pep)\n",
    "true_pivot = np.mean([*b[0:2],*y[-3:-1]])\n",
    "print(\"predicted pivot\",p)\n",
    "print(\"true pivot\",true_pivot)\n",
    "print(\"error\",abs(true_pivot - p))\n",
    "print(\"predicted pivot symmetry, true pivot symmetry, expected symmetry\",measure_mirror_symmetry(spec,p), measure_mirror_symmetry(spec,true_pivot), (len(spec) - 1)/len(spec))\n",
    "overlap_pivots = [np.mean(x.data) for x in search(spec,\"overlap\",alphabet,tolerance)]\n",
    "n = len(overlap_pivots)\n",
    "for i in range(n):\n",
    "    for j in range(i + 1, n):\n",
    "        o1 = overlap_pivots[i]\n",
    "        o2 = overlap_pivots[j]\n",
    "        reconstructed_pivot = (o1 + o2) / 2\n",
    "        if abs(measure_mirror_symmetry(spec, reconstructed_pivot) - (len(spec) - 1) / len(spec)) < 0.1:\n",
    "            print(f\"recovered pivot {i,j}: {o1} + {o2} = {reconstructed_pivot}\")"
   ]
  },
  {
   "cell_type": "code",
   "execution_count": null,
   "id": "fd75d1d3-819e-49c7-adc6-b0673cb4e3a3",
   "metadata": {},
   "outputs": [],
   "source": [
    "spec = generate_default_fragment_spectrum(\"QNPEVLTEYR\")"
   ]
  },
  {
   "cell_type": "code",
   "execution_count": null,
   "id": "60d7f1dc-63ee-4b7d-b2f0-b36b5b8d3a8c",
   "metadata": {},
   "outputs": [],
   "source": [
    "for ion, peak in zip (spec.getStringDataArrays()[0], spec):\n",
    "    print(ion.decode(), peak.getMZ())"
   ]
  },
  {
   "cell_type": "markdown",
   "id": "e7dc0b64-6e1a-49ab-8d80-3cc1fd533045",
   "metadata": {},
   "source": [
    "## Miscellaneous"
   ]
  },
  {
   "cell_type": "markdown",
   "id": "bcb2a8b5-4318-406c-83f1-c1137aaedd40",
   "metadata": {},
   "source": [
    "#### Create Swiss-Prot Subset"
   ]
  },
  {
   "cell_type": "code",
   "execution_count": null,
   "id": "827418b7-1947-4612-a1be-a184e6e0bc79",
   "metadata": {},
   "outputs": [],
   "source": [
    "sprot = load_fasta_records(\"uniprot_sprot.fasta\")\n",
    "\n",
    "def create_sprot_subset(sprot,count,filename_pattern):\n",
    "    shuffle(sprot)\n",
    "    sprot_subset = sprot[:count]\n",
    "    counter = 0\n",
    "    while os.path.isfile(filename_pattern.format(counter)):\n",
    "        counter += 1\n",
    "    filename = filename_pattern.format(counter)\n",
    "    print(filename)\n",
    "    with open(filename,\"w\") as handle:\n",
    "        print(SeqIO.write(sprot_subset, handle, \"fasta\"))"
   ]
  },
  {
   "cell_type": "code",
   "execution_count": null,
   "id": "c2de97ad-d5e9-4a8d-8eb9-aa8b8d9f75af",
   "metadata": {},
   "outputs": [],
   "source": [
    "create_sprot_subset(sprot,1000,\"sprot_1k_{}.fasta\")"
   ]
  },
  {
   "cell_type": "code",
   "execution_count": null,
   "id": "f48a85eb-4e0b-416f-9ec5-6eab44f17202",
   "metadata": {},
   "outputs": [],
   "source": [
    "create_sprot_subset(sprot,10000,\"sprot_10k_{}.fasta\")"
   ]
  },
  {
   "cell_type": "code",
   "execution_count": null,
   "id": "b436a829-6219-4510-8ed8-3e3a774b70ba",
   "metadata": {},
   "outputs": [],
   "source": [
    "create_sprot_subset(sprot,100000,\"sprot_100k_{}.fasta\")"
   ]
  },
  {
   "cell_type": "raw",
   "id": "88e2863d-0334-47ac-b340-066c425522f9",
   "metadata": {},
   "source": [
    "shuffle(sprot)\n",
    "sprot_1k = sprot[:int(1e3)]\n",
    "\n",
    "counter = 0\n",
    "filename = \"sprot_1k_{}.fasta\"\n",
    "while os.path.isfile(filename.format(counter)):\n",
    "    counter += 1\n",
    "filename = filename.format(counter)\n",
    "print(filename)\n",
    "\n",
    "with open(filename,\"w\") as handle:\n",
    "    n = SeqIO.write(sprot_1k, handle, \"fasta\")\n",
    "print(n)"
   ]
  },
  {
   "cell_type": "raw",
   "id": "fe779ca6-6fc5-47f2-a745-c3dc152daa2a",
   "metadata": {},
   "source": [
    "sprot = load_fasta_records(\"uniprot_sprot.fasta\")\n",
    "shuffle(sprot)\n",
    "sprot_10k = sprot[:int(1e5)]\n",
    "\n",
    "counter = 0\n",
    "filename = \"sprot_10k_{}.fasta\"\n",
    "while os.path.isfile(filename.format(counter)):\n",
    "    counter += 1\n",
    "filename = filename.format(counter)\n",
    "print(filename)\n",
    "\n",
    "with open(filename,\"w\") as handle:\n",
    "    n = SeqIO.write(sprot_10k, handle, \"fasta\")\n",
    "print(n)"
   ]
  },
  {
   "cell_type": "raw",
   "id": "7a8fc7f7-202a-4cea-9648-726edc7e9602",
   "metadata": {},
   "source": [
    "from Bio import Seq, SeqRecord\n",
    "SeqRecord.SeqRecord(Seq.Seq(\"M\"), id=\"miss_1\",name=\"\",description=\"\")"
   ]
  }
 ],
 "metadata": {
  "kernelspec": {
   "display_name": "Python 3 (ipykernel)",
   "language": "python",
   "name": "python3"
  },
  "language_info": {
   "codemirror_mode": {
    "name": "ipython",
    "version": 3
   },
   "file_extension": ".py",
   "mimetype": "text/x-python",
   "name": "python",
   "nbconvert_exporter": "python",
   "pygments_lexer": "ipython3",
   "version": "3.11.10"
  }
 },
 "nbformat": 4,
 "nbformat_minor": 5
}
